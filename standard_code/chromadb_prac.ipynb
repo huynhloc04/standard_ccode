{
 "cells": [
  {
   "cell_type": "markdown",
   "metadata": {},
   "source": [
    "https://norahsakal.com/blog/fine-tune-gpt3-model"
   ]
  },
  {
   "cell_type": "code",
   "execution_count": 7,
   "metadata": {},
   "outputs": [],
   "source": [
    "import os\n",
    "import pandas as pd\n",
    "from typing import Dict\n",
    "import openai, json, chromadb\n",
    "from chromadb.utils import embedding_functions\n",
    "from langchain.text_splitter import RecursiveCharacterTextSplitter\n",
    "from tqdm import tqdm"
   ]
  },
  {
   "cell_type": "code",
   "execution_count": 8,
   "metadata": {},
   "outputs": [],
   "source": [
    "openai.api_key = open(\"key.txt\", \"r\").read()\n",
    "os.environ[\"OPENAI_API_KEY\"] = openai.api_key"
   ]
  },
  {
   "cell_type": "markdown",
   "metadata": {},
   "source": [
    "##  ***Data preparation***"
   ]
  },
  {
   "cell_type": "code",
   "execution_count": 9,
   "metadata": {},
   "outputs": [
    {
     "data": {
      "text/plain": [
       "319444"
      ]
     },
     "execution_count": 9,
     "metadata": {},
     "output_type": "execute_result"
    }
   ],
   "source": [
    "#   Read data from text\n",
    "with open(\"chatbot/data/start3D_DB.txt\", \"r\") as file:\n",
    "    text = file.read()\n",
    "len(text.split())"
   ]
  },
  {
   "cell_type": "markdown",
   "metadata": {},
   "source": [
    "### ***Text chunking***"
   ]
  },
  {
   "cell_type": "code",
   "execution_count": 10,
   "metadata": {},
   "outputs": [],
   "source": [
    "text_splitter = RecursiveCharacterTextSplitter(\n",
    "    chunk_size=1000,\n",
    "    chunk_overlap=100,\n",
    "    length_function=len,\n",
    ")\n",
    "\n",
    "#   Remove repeat chunk\n",
    "chunks = list(set(text_splitter.split_text(text)))"
   ]
  },
  {
   "cell_type": "code",
   "execution_count": 11,
   "metadata": {},
   "outputs": [],
   "source": [
    "embed_func = embedding_functions.OpenAIEmbeddingFunction(\n",
    "                            api_key=os.environ[\"OPENAI_API_KEY\"],\n",
    "                            model_name=\"text-embedding-ada-002\"\n",
    "                )\n",
    "        \n",
    "# Create a PersistentClient and get or create the collection\n",
    "client = chromadb.PersistentClient(\"./chromadb__\")\n",
    "collection = client.get_or_create_collection(name=\"start3D\", \n",
    "                                             embedding_function=embed_func, \n",
    "                                             metadata={\"hnsw:space\": \"cosine\"})\n",
    "\n",
    "# Add documents to the collection\n",
    "collection.add(\n",
    "    documents=chunks,   #   [paragraph1, paragraph2]\n",
    "    metadatas=[{\"source\": \"notion\"}]*len(chunks),\n",
    "    ids = [str(i) for i in range(len(chunks))]\n",
    ")"
   ]
  },
  {
   "cell_type": "code",
   "execution_count": 12,
   "metadata": {},
   "outputs": [
    {
     "data": {
      "text/plain": [
       "Collection(name=start3D)"
      ]
     },
     "execution_count": 12,
     "metadata": {},
     "output_type": "execute_result"
    }
   ],
   "source": [
    "collection"
   ]
  },
  {
   "cell_type": "code",
   "execution_count": 13,
   "metadata": {},
   "outputs": [],
   "source": [
    "def text_embedding(text):\n",
    "    response = openai.Embedding.create(model=\"text-embedding-ada-002\", input=text)\n",
    "    return response[\"data\"][0][\"embedding\"]"
   ]
  },
  {
   "attachments": {},
   "cell_type": "markdown",
   "metadata": {},
   "source": [
    "### ***Multiple requests***"
   ]
  },
  {
   "cell_type": "code",
   "execution_count": null,
   "metadata": {},
   "outputs": [],
   "source": [
    "#   Multiple queries\n",
    "queries_text = [\"Đảng Cộng sản Việt Nam được thành lập vào ngày nào?\",\n",
    "                \"Ai đã nhận được sự đồng tình ủng hộ của nhân dân các nước yêu chuộng hòa bình trong cuộc kháng chiến giành độc lập dân tộc?\"]\n",
    "queries = []\n",
    "for query in queries_text:\n",
    "    queries.append(text_embedding(query))\n",
    "\n",
    "queries"
   ]
  },
  {
   "cell_type": "code",
   "execution_count": 12,
   "metadata": {},
   "outputs": [
    {
     "data": {
      "text/plain": [
       "{'ids': [['496'], ['185']],\n",
       " 'distances': [[0.10070765018463135], [0.0912785530090332]],\n",
       " 'metadatas': [[{'source': 'notion'}], [{'source': 'notion'}]],\n",
       " 'embeddings': None,\n",
       " 'documents': [['Ngày 3/2/1930 Đảng Cộng sản Việt Nam được thành lập. Đây là sự kiện lịch sử có ý nghĩa đặc biệt quan trọng của cách mạng Việt Nam. Ban Chấp hành Trung ương Đảng thời kỳ đầu hoạt động chủ yếu tại địa bàn Thành phố đã bí mật xây dựng cơ sở, truyền bá sách báo tiến bộ, tập hợp những công nhân ưu tú trong các nhà máy, hãng xưởng làm hạt nhân vận động, tổ chức các cuộc đấu tranh thu hút các tầng lớp đồng bào. Từ tháng 3 năm 1930 tại Thành phố cũng diễn ra việc hợp nhất thành lập các Chi bộ cộng sản, thành lập Ban lâm thời chấp ủy của Đảng bộ Sài Gòn do đồng chí Nguyễn Văn Lợi (Hữu Dũng) làm Bí thư. Đảng bộ Thành phố có khoảng 20 Chi bộ với 130 Đảng viên. Phòng trưng bày đấu tranh cách mạng giai đoạn 1930 – 1954 là phòng số 5 (lầu 1) trong hệ thống trưng bày của Bảo tàng Thành phố, tổng cộng 301 hiện vật bao gồm: hình ảnh, tài liệu, báo chí và các loại vũ khí… tất cả là những hiện vật quý, hàm chứa nhiều giá trị và có ý nghĩa lịch sử quan trọng. Thể hiện qua một số nội dung sau:'],\n",
       "  ['Trong cuộc kháng chiến giành độc lập dân tộc, nhân dân Việt Nam đã nhận được sự đồng tình ủng hộ của nhân dân các nước yêu chuộng hòa bình trên thế giới. Trong đó nhân dân Mỹ và những quân nhân Mỹ đã có những đóng góp, giúp đỡ Việt Nam. Ngày nay mối quan hệ tốt đẹp ấy tiếp tục được duy trì và phát triển trên mọi lĩnh vực: chính trị, kinh tế, giáo dục, văn hóa...Chuyên đề giúp nhân dân Việt Nam và du khách quốc tế hiểu thêm về các hình thức đấu tranh hoạt động phản chiến của những người lính và cựu binh Mỹ phản đối cuộc chiến tranh của Mỹ ở Việt Nam.\\nNguồn: Bảo tàng Chứng tích chiến tranhCÔNG VIÊN VĂN HÓA ĐẦM SEN\\nHồ senKIDS PLAYGROUND']]}"
      ]
     },
     "execution_count": 12,
     "metadata": {},
     "output_type": "execute_result"
    }
   ],
   "source": [
    "results = collection.query(\n",
    "    query_embeddings=queries,\n",
    "    n_results=1\n",
    ")\n",
    "results"
   ]
  },
  {
   "attachments": {},
   "cell_type": "markdown",
   "metadata": {},
   "source": [
    "### ***Single request***"
   ]
  },
  {
   "cell_type": "code",
   "execution_count": 48,
   "metadata": {},
   "outputs": [],
   "source": [
    "embed_vec = text_embedding(\"Đảng Cộng sản Việt Nam được thành lập vào ngày nào?\")\n",
    "\n",
    "results = collection.query(\n",
    "    query_embeddings=embed_vec,\n",
    "    include=[\"documents\", \"metadatas\"],\n",
    "    n_results=1\n",
    ")\n",
    "result_text = \"\\n\".join(str(item) for item in results['documents'][0])"
   ]
  },
  {
   "cell_type": "code",
   "execution_count": 52,
   "metadata": {},
   "outputs": [
    {
     "data": {
      "text/plain": [
       "{'ids': [['319']],\n",
       " 'distances': None,\n",
       " 'metadatas': [[{'source': 'notion'}]],\n",
       " 'embeddings': None,\n",
       " 'documents': [['Ngày 3/2/1930 Đảng Cộng sản Việt Nam được thành lập. Đây là sự kiện lịch sử có ý nghĩa đặc biệt quan trọng của cách mạng Việt Nam. Ban Chấp hành Trung ương Đảng thời kỳ đầu hoạt động chủ yếu tại địa bàn Thành phố đã bí mật xây dựng cơ sở, truyền bá sách báo tiến bộ, tập hợp những công nhân ưu tú trong các nhà máy, hãng xưởng làm hạt nhân vận động, tổ chức các cuộc đấu tranh thu hút các tầng lớp đồng bào. Từ tháng 3 năm 1930 tại Thành phố cũng diễn ra việc hợp nhất thành lập các Chi bộ cộng sản, thành lập Ban lâm thời chấp ủy của Đảng bộ Sài Gòn do đồng chí Nguyễn Văn Lợi (Hữu Dũng) làm Bí thư. Đảng bộ Thành phố có khoảng 20 Chi bộ với 130 Đảng viên. Phòng trưng bày đấu tranh cách mạng giai đoạn 1930 – 1954 là phòng số 5 (lầu 1) trong hệ thống trưng bày của Bảo tàng Thành phố, tổng cộng 301 hiện vật bao gồm: hình ảnh, tài liệu, báo chí và các loại vũ khí… tất cả là những hiện vật quý, hàm chứa nhiều giá trị và có ý nghĩa lịch sử quan trọng. Thể hiện qua một số nội dung sau:']]}"
      ]
     },
     "execution_count": 52,
     "metadata": {},
     "output_type": "execute_result"
    }
   ],
   "source": [
    "results"
   ]
  },
  {
   "cell_type": "code",
   "execution_count": 50,
   "metadata": {},
   "outputs": [],
   "source": [
    "locations = results[\"metadatas\"][0]\n",
    "answers = results[\"documents\"][0]\n",
    "\n",
    "final_text = []\n",
    "old_location = ''\n",
    "for location, answer in zip(locations, answers):\n",
    "    if location[\"source\"] != old_location:\n",
    "        final_text.append(\"Dưới đây là thông tin về \" + location[\"source\"] + \":\")\n",
    "        old_location = location[\"source\"]\n",
    "    final_text.append(answer)\n",
    "final_text = \"\\n\".join(final_text)"
   ]
  },
  {
   "cell_type": "code",
   "execution_count": null,
   "metadata": {},
   "outputs": [],
   "source": [
    "{'ids': [['0']],\n",
    " 'distances': None,\n",
    " 'metadatas': [[{'source': 'Tòa nhà Landmark81'}]],\n",
    " 'embeddings': None,\n",
    " 'documents': [['Landmark 81 cao ....']]}"
   ]
  },
  {
   "cell_type": "markdown",
   "metadata": {},
   "source": [
    "### ***Update Database***"
   ]
  },
  {
   "cell_type": "code",
   "execution_count": 13,
   "metadata": {},
   "outputs": [
    {
     "data": {
      "text/plain": [
       "522"
      ]
     },
     "execution_count": 13,
     "metadata": {},
     "output_type": "execute_result"
    }
   ],
   "source": [
    "curr_id = len(chunks)\n",
    "curr_id"
   ]
  },
  {
   "cell_type": "code",
   "execution_count": 16,
   "metadata": {},
   "outputs": [],
   "source": [
    "new_chunks = [\"Ngày 3/2/1930 Đảng Cộng sản Việt Nam được thành lập. Đây là sự kiện lịch sử có ý nghĩa đặc biệt quan trọng của cách mạng Việt Nam. Ban Chấp hành Trung ương Đảng\",\n",
    "              \"Năm 1930, Đảng Cộng sản Đông Dương thành lập, đã đề ra cương lĩnh Cách Mạng đúng đắn. Trong 15 năm lãnh đạo nhân dân Việt Nam thực hiện cuộc Cách Mạng Tháng 8 năm 1945, đánh đổ\",\n",
    "              \"Tầng 2 & 1: Mỹ thuật hiện đại, Phòng trải nghiệm mỹ thuật, Quầy lưu niệm, Vườn tượng, Phòng tranh. Nguồn: Bảo tàng Mỹ thuật TP.HCM PHÒNG TRƯNG BÀY BẢO VẬT QUỐC GIA\",\n",
    "              \"Tòa nhà 1: Đây là nơi trưng bày các tác phẩm mỹ thuật hiện đại của các họa sĩ nổi tiếng trường Gia Định, Mỹ thuật Đông Dương và mỹ thuật hiện đại từ trước năm 1975\"]"
   ]
  },
  {
   "cell_type": "code",
   "execution_count": 17,
   "metadata": {},
   "outputs": [],
   "source": [
    "collection.upsert(\n",
    "    ids=[str(curr_id+i) for i in range(len(new_chunks))],\n",
    "    documents=new_chunks,\n",
    ")"
   ]
  }
 ],
 "metadata": {
  "kernelspec": {
   "display_name": "CV",
   "language": "python",
   "name": "python3"
  },
  "language_info": {
   "codemirror_mode": {
    "name": "ipython",
    "version": 3
   },
   "file_extension": ".py",
   "mimetype": "text/x-python",
   "name": "python",
   "nbconvert_exporter": "python",
   "pygments_lexer": "ipython3",
   "version": "3.8.17"
  },
  "orig_nbformat": 4
 },
 "nbformat": 4,
 "nbformat_minor": 2
}
